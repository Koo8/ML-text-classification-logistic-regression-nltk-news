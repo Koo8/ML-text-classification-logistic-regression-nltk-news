{
  "nbformat": 4,
  "nbformat_minor": 0,
  "metadata": {
    "colab": {
      "provenance": [],
      "mount_file_id": "1izd-8bnlksHfW6u5YHt9MDAsI0ZRt2yR",
      "authorship_tag": "ABX9TyML2urrfWwHVTGERh7u/7TD",
      "include_colab_link": true
    },
    "kernelspec": {
      "name": "python3",
      "display_name": "Python 3"
    },
    "language_info": {
      "name": "python"
    }
  },
  "cells": [
    {
      "cell_type": "markdown",
      "metadata": {
        "id": "view-in-github",
        "colab_type": "text"
      },
      "source": [
        "<a href=\"https://colab.research.google.com/github/Koo8/ML-text-classification-logistic-regression-nltk-news/blob/main/newsML.ipynb\" target=\"_parent\"><img src=\"https://colab.research.google.com/assets/colab-badge.svg\" alt=\"Open In Colab\"/></a>"
      ]
    },
    {
      "cell_type": "markdown",
      "source": [
        "**USE ML for Fake News Analysis**  \n",
        "Keyword:  \n",
        "\n",
        "1.   text data -TfidfVectorizer - convert text data to numerical data\n",
        "2.   classification + logistic regression model + stratification: stratify=y for classification problems\n",
        "3.   nltk\n",
        "4.   stemming - nltk PorterStemmer - to remove prefix/suffix\n"
      ],
      "metadata": {
        "id": "IPoHBg_DwLw0"
      }
    },
    {
      "cell_type": "markdown",
      "source": [
        "**Fake News Prediction with Python**  \n",
        "This project deals with text data.\n",
        "It is a binary classification project, the result is either Fake or Real.  \n",
        "Feed preprocessed trained data to *logistic regression model*, which works best for classification project.  \n",
        "**About the Dataset**  \n",
        "1 id: unique article id  \n",
        "2 title: news article title  \n",
        "3 author: article author  \n",
        "4 text: the text of the article; could be incomplete  \n",
        "5 label: mark the article fake(1) or real(0)  \n",
        "\n"
      ],
      "metadata": {
        "id": "-6ogjr1a-8ZZ"
      }
    },
    {
      "cell_type": "code",
      "execution_count": 1,
      "metadata": {
        "id": "oEcQXIU-qjCI"
      },
      "outputs": [],
      "source": [
        "# import dependency and dataset\n",
        "import pandas as pd\n",
        "import numpy as np\n",
        "import re\n",
        "from nltk.corpus import stopwords\n",
        "from nltk.stem.porter import PorterStemmer # remove prefix / suffix and return root word\n",
        "from sklearn.feature_extraction.text import TfidfVectorizer  #Convert a collection of raw documents to a matrix of TF-IDF features(basically numbers)\n",
        "from sklearn.model_selection import train_test_split\n",
        "from sklearn.linear_model import LogisticRegression\n",
        "from sklearn.metrics import accuracy_score\n",
        "\n"
      ]
    },
    {
      "cell_type": "code",
      "source": [
        "# first: download the stopwords\n",
        "import nltk\n",
        "nltk.download(\"stopwords\")"
      ],
      "metadata": {
        "colab": {
          "base_uri": "https://localhost:8080/"
        },
        "id": "tue6reiRKlsM",
        "outputId": "ddcfbc88-8b65-4690-cf49-14e07408094f"
      },
      "execution_count": 2,
      "outputs": [
        {
          "output_type": "stream",
          "name": "stderr",
          "text": [
            "[nltk_data] Downloading package stopwords to /root/nltk_data...\n",
            "[nltk_data]   Unzipping corpora/stopwords.zip.\n"
          ]
        },
        {
          "output_type": "execute_result",
          "data": {
            "text/plain": [
              "True"
            ]
          },
          "metadata": {},
          "execution_count": 2
        }
      ]
    },
    {
      "cell_type": "code",
      "source": [
        "# show stopwords\n",
        "print(stopwords.words('english'))\n",
        "# these words have not much values in analysis, so should be removed from the dataset"
      ],
      "metadata": {
        "colab": {
          "base_uri": "https://localhost:8080/"
        },
        "id": "2uYCMtPPKlNu",
        "outputId": "146193d7-935b-43ba-e9f2-9e03e6b45be9"
      },
      "execution_count": 3,
      "outputs": [
        {
          "output_type": "stream",
          "name": "stdout",
          "text": [
            "['i', 'me', 'my', 'myself', 'we', 'our', 'ours', 'ourselves', 'you', \"you're\", \"you've\", \"you'll\", \"you'd\", 'your', 'yours', 'yourself', 'yourselves', 'he', 'him', 'his', 'himself', 'she', \"she's\", 'her', 'hers', 'herself', 'it', \"it's\", 'its', 'itself', 'they', 'them', 'their', 'theirs', 'themselves', 'what', 'which', 'who', 'whom', 'this', 'that', \"that'll\", 'these', 'those', 'am', 'is', 'are', 'was', 'were', 'be', 'been', 'being', 'have', 'has', 'had', 'having', 'do', 'does', 'did', 'doing', 'a', 'an', 'the', 'and', 'but', 'if', 'or', 'because', 'as', 'until', 'while', 'of', 'at', 'by', 'for', 'with', 'about', 'against', 'between', 'into', 'through', 'during', 'before', 'after', 'above', 'below', 'to', 'from', 'up', 'down', 'in', 'out', 'on', 'off', 'over', 'under', 'again', 'further', 'then', 'once', 'here', 'there', 'when', 'where', 'why', 'how', 'all', 'any', 'both', 'each', 'few', 'more', 'most', 'other', 'some', 'such', 'no', 'nor', 'not', 'only', 'own', 'same', 'so', 'than', 'too', 'very', 's', 't', 'can', 'will', 'just', 'don', \"don't\", 'should', \"should've\", 'now', 'd', 'll', 'm', 'o', 're', 've', 'y', 'ain', 'aren', \"aren't\", 'couldn', \"couldn't\", 'didn', \"didn't\", 'doesn', \"doesn't\", 'hadn', \"hadn't\", 'hasn', \"hasn't\", 'haven', \"haven't\", 'isn', \"isn't\", 'ma', 'mightn', \"mightn't\", 'mustn', \"mustn't\", 'needn', \"needn't\", 'shan', \"shan't\", 'shouldn', \"shouldn't\", 'wasn', \"wasn't\", 'weren', \"weren't\", 'won', \"won't\", 'wouldn', \"wouldn't\"]\n"
          ]
        }
      ]
    },
    {
      "cell_type": "markdown",
      "source": [
        "**Data Pre-processing**"
      ],
      "metadata": {
        "id": "mN16Ess-LW11"
      }
    },
    {
      "cell_type": "code",
      "source": [
        "news_data = pd.read_csv('/content/drive/MyDrive/Colab Notebooks/fake_news_dataset.csv')"
      ],
      "metadata": {
        "id": "gfCbhkQlFOjo"
      },
      "execution_count": 4,
      "outputs": []
    },
    {
      "cell_type": "code",
      "source": [
        "news_data.head()"
      ],
      "metadata": {
        "colab": {
          "base_uri": "https://localhost:8080/",
          "height": 206
        },
        "id": "p4mtC7sgFT42",
        "outputId": "23ccec99-1321-4570-bff4-e5f7d15c755a"
      },
      "execution_count": 5,
      "outputs": [
        {
          "output_type": "execute_result",
          "data": {
            "text/plain": [
              "   id                                              title              author  \\\n",
              "0   0  House Dem Aide: We Didn’t Even See Comey’s Let...       Darrell Lucus   \n",
              "1   1  FLYNN: Hillary Clinton, Big Woman on Campus - ...     Daniel J. Flynn   \n",
              "2   2                  Why the Truth Might Get You Fired  Consortiumnews.com   \n",
              "3   3  15 Civilians Killed In Single US Airstrike Hav...     Jessica Purkiss   \n",
              "4   4  Iranian woman jailed for fictional unpublished...      Howard Portnoy   \n",
              "\n",
              "                                                text  label  \n",
              "0  House Dem Aide: We Didn’t Even See Comey’s Let...      1  \n",
              "1  Ever get the feeling your life circles the rou...      0  \n",
              "2  Why the Truth Might Get You Fired October 29, ...      1  \n",
              "3  Videos 15 Civilians Killed In Single US Airstr...      1  \n",
              "4  Print \\nAn Iranian woman has been sentenced to...      1  "
            ],
            "text/html": [
              "\n",
              "  <div id=\"df-b9c9cebd-dd73-4e5e-97f0-0dacb64200f2\" class=\"colab-df-container\">\n",
              "    <div>\n",
              "<style scoped>\n",
              "    .dataframe tbody tr th:only-of-type {\n",
              "        vertical-align: middle;\n",
              "    }\n",
              "\n",
              "    .dataframe tbody tr th {\n",
              "        vertical-align: top;\n",
              "    }\n",
              "\n",
              "    .dataframe thead th {\n",
              "        text-align: right;\n",
              "    }\n",
              "</style>\n",
              "<table border=\"1\" class=\"dataframe\">\n",
              "  <thead>\n",
              "    <tr style=\"text-align: right;\">\n",
              "      <th></th>\n",
              "      <th>id</th>\n",
              "      <th>title</th>\n",
              "      <th>author</th>\n",
              "      <th>text</th>\n",
              "      <th>label</th>\n",
              "    </tr>\n",
              "  </thead>\n",
              "  <tbody>\n",
              "    <tr>\n",
              "      <th>0</th>\n",
              "      <td>0</td>\n",
              "      <td>House Dem Aide: We Didn’t Even See Comey’s Let...</td>\n",
              "      <td>Darrell Lucus</td>\n",
              "      <td>House Dem Aide: We Didn’t Even See Comey’s Let...</td>\n",
              "      <td>1</td>\n",
              "    </tr>\n",
              "    <tr>\n",
              "      <th>1</th>\n",
              "      <td>1</td>\n",
              "      <td>FLYNN: Hillary Clinton, Big Woman on Campus - ...</td>\n",
              "      <td>Daniel J. Flynn</td>\n",
              "      <td>Ever get the feeling your life circles the rou...</td>\n",
              "      <td>0</td>\n",
              "    </tr>\n",
              "    <tr>\n",
              "      <th>2</th>\n",
              "      <td>2</td>\n",
              "      <td>Why the Truth Might Get You Fired</td>\n",
              "      <td>Consortiumnews.com</td>\n",
              "      <td>Why the Truth Might Get You Fired October 29, ...</td>\n",
              "      <td>1</td>\n",
              "    </tr>\n",
              "    <tr>\n",
              "      <th>3</th>\n",
              "      <td>3</td>\n",
              "      <td>15 Civilians Killed In Single US Airstrike Hav...</td>\n",
              "      <td>Jessica Purkiss</td>\n",
              "      <td>Videos 15 Civilians Killed In Single US Airstr...</td>\n",
              "      <td>1</td>\n",
              "    </tr>\n",
              "    <tr>\n",
              "      <th>4</th>\n",
              "      <td>4</td>\n",
              "      <td>Iranian woman jailed for fictional unpublished...</td>\n",
              "      <td>Howard Portnoy</td>\n",
              "      <td>Print \\nAn Iranian woman has been sentenced to...</td>\n",
              "      <td>1</td>\n",
              "    </tr>\n",
              "  </tbody>\n",
              "</table>\n",
              "</div>\n",
              "    <div class=\"colab-df-buttons\">\n",
              "\n",
              "  <div class=\"colab-df-container\">\n",
              "    <button class=\"colab-df-convert\" onclick=\"convertToInteractive('df-b9c9cebd-dd73-4e5e-97f0-0dacb64200f2')\"\n",
              "            title=\"Convert this dataframe to an interactive table.\"\n",
              "            style=\"display:none;\">\n",
              "\n",
              "  <svg xmlns=\"http://www.w3.org/2000/svg\" height=\"24px\" viewBox=\"0 -960 960 960\">\n",
              "    <path d=\"M120-120v-720h720v720H120Zm60-500h600v-160H180v160Zm220 220h160v-160H400v160Zm0 220h160v-160H400v160ZM180-400h160v-160H180v160Zm440 0h160v-160H620v160ZM180-180h160v-160H180v160Zm440 0h160v-160H620v160Z\"/>\n",
              "  </svg>\n",
              "    </button>\n",
              "\n",
              "  <style>\n",
              "    .colab-df-container {\n",
              "      display:flex;\n",
              "      gap: 12px;\n",
              "    }\n",
              "\n",
              "    .colab-df-convert {\n",
              "      background-color: #E8F0FE;\n",
              "      border: none;\n",
              "      border-radius: 50%;\n",
              "      cursor: pointer;\n",
              "      display: none;\n",
              "      fill: #1967D2;\n",
              "      height: 32px;\n",
              "      padding: 0 0 0 0;\n",
              "      width: 32px;\n",
              "    }\n",
              "\n",
              "    .colab-df-convert:hover {\n",
              "      background-color: #E2EBFA;\n",
              "      box-shadow: 0px 1px 2px rgba(60, 64, 67, 0.3), 0px 1px 3px 1px rgba(60, 64, 67, 0.15);\n",
              "      fill: #174EA6;\n",
              "    }\n",
              "\n",
              "    .colab-df-buttons div {\n",
              "      margin-bottom: 4px;\n",
              "    }\n",
              "\n",
              "    [theme=dark] .colab-df-convert {\n",
              "      background-color: #3B4455;\n",
              "      fill: #D2E3FC;\n",
              "    }\n",
              "\n",
              "    [theme=dark] .colab-df-convert:hover {\n",
              "      background-color: #434B5C;\n",
              "      box-shadow: 0px 1px 3px 1px rgba(0, 0, 0, 0.15);\n",
              "      filter: drop-shadow(0px 1px 2px rgba(0, 0, 0, 0.3));\n",
              "      fill: #FFFFFF;\n",
              "    }\n",
              "  </style>\n",
              "\n",
              "    <script>\n",
              "      const buttonEl =\n",
              "        document.querySelector('#df-b9c9cebd-dd73-4e5e-97f0-0dacb64200f2 button.colab-df-convert');\n",
              "      buttonEl.style.display =\n",
              "        google.colab.kernel.accessAllowed ? 'block' : 'none';\n",
              "\n",
              "      async function convertToInteractive(key) {\n",
              "        const element = document.querySelector('#df-b9c9cebd-dd73-4e5e-97f0-0dacb64200f2');\n",
              "        const dataTable =\n",
              "          await google.colab.kernel.invokeFunction('convertToInteractive',\n",
              "                                                    [key], {});\n",
              "        if (!dataTable) return;\n",
              "\n",
              "        const docLinkHtml = 'Like what you see? Visit the ' +\n",
              "          '<a target=\"_blank\" href=https://colab.research.google.com/notebooks/data_table.ipynb>data table notebook</a>'\n",
              "          + ' to learn more about interactive tables.';\n",
              "        element.innerHTML = '';\n",
              "        dataTable['output_type'] = 'display_data';\n",
              "        await google.colab.output.renderOutput(dataTable, element);\n",
              "        const docLink = document.createElement('div');\n",
              "        docLink.innerHTML = docLinkHtml;\n",
              "        element.appendChild(docLink);\n",
              "      }\n",
              "    </script>\n",
              "  </div>\n",
              "\n",
              "\n",
              "<div id=\"df-5cdda330-d57b-4cde-9ff0-017be510d4a0\">\n",
              "  <button class=\"colab-df-quickchart\" onclick=\"quickchart('df-5cdda330-d57b-4cde-9ff0-017be510d4a0')\"\n",
              "            title=\"Suggest charts\"\n",
              "            style=\"display:none;\">\n",
              "\n",
              "<svg xmlns=\"http://www.w3.org/2000/svg\" height=\"24px\"viewBox=\"0 0 24 24\"\n",
              "     width=\"24px\">\n",
              "    <g>\n",
              "        <path d=\"M19 3H5c-1.1 0-2 .9-2 2v14c0 1.1.9 2 2 2h14c1.1 0 2-.9 2-2V5c0-1.1-.9-2-2-2zM9 17H7v-7h2v7zm4 0h-2V7h2v10zm4 0h-2v-4h2v4z\"/>\n",
              "    </g>\n",
              "</svg>\n",
              "  </button>\n",
              "\n",
              "<style>\n",
              "  .colab-df-quickchart {\n",
              "      --bg-color: #E8F0FE;\n",
              "      --fill-color: #1967D2;\n",
              "      --hover-bg-color: #E2EBFA;\n",
              "      --hover-fill-color: #174EA6;\n",
              "      --disabled-fill-color: #AAA;\n",
              "      --disabled-bg-color: #DDD;\n",
              "  }\n",
              "\n",
              "  [theme=dark] .colab-df-quickchart {\n",
              "      --bg-color: #3B4455;\n",
              "      --fill-color: #D2E3FC;\n",
              "      --hover-bg-color: #434B5C;\n",
              "      --hover-fill-color: #FFFFFF;\n",
              "      --disabled-bg-color: #3B4455;\n",
              "      --disabled-fill-color: #666;\n",
              "  }\n",
              "\n",
              "  .colab-df-quickchart {\n",
              "    background-color: var(--bg-color);\n",
              "    border: none;\n",
              "    border-radius: 50%;\n",
              "    cursor: pointer;\n",
              "    display: none;\n",
              "    fill: var(--fill-color);\n",
              "    height: 32px;\n",
              "    padding: 0;\n",
              "    width: 32px;\n",
              "  }\n",
              "\n",
              "  .colab-df-quickchart:hover {\n",
              "    background-color: var(--hover-bg-color);\n",
              "    box-shadow: 0 1px 2px rgba(60, 64, 67, 0.3), 0 1px 3px 1px rgba(60, 64, 67, 0.15);\n",
              "    fill: var(--button-hover-fill-color);\n",
              "  }\n",
              "\n",
              "  .colab-df-quickchart-complete:disabled,\n",
              "  .colab-df-quickchart-complete:disabled:hover {\n",
              "    background-color: var(--disabled-bg-color);\n",
              "    fill: var(--disabled-fill-color);\n",
              "    box-shadow: none;\n",
              "  }\n",
              "\n",
              "  .colab-df-spinner {\n",
              "    border: 2px solid var(--fill-color);\n",
              "    border-color: transparent;\n",
              "    border-bottom-color: var(--fill-color);\n",
              "    animation:\n",
              "      spin 1s steps(1) infinite;\n",
              "  }\n",
              "\n",
              "  @keyframes spin {\n",
              "    0% {\n",
              "      border-color: transparent;\n",
              "      border-bottom-color: var(--fill-color);\n",
              "      border-left-color: var(--fill-color);\n",
              "    }\n",
              "    20% {\n",
              "      border-color: transparent;\n",
              "      border-left-color: var(--fill-color);\n",
              "      border-top-color: var(--fill-color);\n",
              "    }\n",
              "    30% {\n",
              "      border-color: transparent;\n",
              "      border-left-color: var(--fill-color);\n",
              "      border-top-color: var(--fill-color);\n",
              "      border-right-color: var(--fill-color);\n",
              "    }\n",
              "    40% {\n",
              "      border-color: transparent;\n",
              "      border-right-color: var(--fill-color);\n",
              "      border-top-color: var(--fill-color);\n",
              "    }\n",
              "    60% {\n",
              "      border-color: transparent;\n",
              "      border-right-color: var(--fill-color);\n",
              "    }\n",
              "    80% {\n",
              "      border-color: transparent;\n",
              "      border-right-color: var(--fill-color);\n",
              "      border-bottom-color: var(--fill-color);\n",
              "    }\n",
              "    90% {\n",
              "      border-color: transparent;\n",
              "      border-bottom-color: var(--fill-color);\n",
              "    }\n",
              "  }\n",
              "</style>\n",
              "\n",
              "  <script>\n",
              "    async function quickchart(key) {\n",
              "      const quickchartButtonEl =\n",
              "        document.querySelector('#' + key + ' button');\n",
              "      quickchartButtonEl.disabled = true;  // To prevent multiple clicks.\n",
              "      quickchartButtonEl.classList.add('colab-df-spinner');\n",
              "      try {\n",
              "        const charts = await google.colab.kernel.invokeFunction(\n",
              "            'suggestCharts', [key], {});\n",
              "      } catch (error) {\n",
              "        console.error('Error during call to suggestCharts:', error);\n",
              "      }\n",
              "      quickchartButtonEl.classList.remove('colab-df-spinner');\n",
              "      quickchartButtonEl.classList.add('colab-df-quickchart-complete');\n",
              "    }\n",
              "    (() => {\n",
              "      let quickchartButtonEl =\n",
              "        document.querySelector('#df-5cdda330-d57b-4cde-9ff0-017be510d4a0 button');\n",
              "      quickchartButtonEl.style.display =\n",
              "        google.colab.kernel.accessAllowed ? 'block' : 'none';\n",
              "    })();\n",
              "  </script>\n",
              "</div>\n",
              "\n",
              "    </div>\n",
              "  </div>\n"
            ]
          },
          "metadata": {},
          "execution_count": 5
        }
      ]
    },
    {
      "cell_type": "code",
      "source": [
        "news_data.shape"
      ],
      "metadata": {
        "id": "DrzxjUy6LgZp",
        "outputId": "dfcdeb3d-9e15-4a03-8140-43c75ffdbdef",
        "colab": {
          "base_uri": "https://localhost:8080/"
        }
      },
      "execution_count": 6,
      "outputs": [
        {
          "output_type": "execute_result",
          "data": {
            "text/plain": [
              "(20800, 5)"
            ]
          },
          "metadata": {},
          "execution_count": 6
        }
      ]
    },
    {
      "cell_type": "code",
      "source": [
        "news_data.isna().sum()  # title, author and text all have null values\n"
      ],
      "metadata": {
        "colab": {
          "base_uri": "https://localhost:8080/"
        },
        "id": "j5losBqoFVrq",
        "outputId": "e22c501d-08e7-4b77-8a1e-36f378dc4789"
      },
      "execution_count": 7,
      "outputs": [
        {
          "output_type": "execute_result",
          "data": {
            "text/plain": [
              "id           0\n",
              "title      558\n",
              "author    1957\n",
              "text        39\n",
              "label        0\n",
              "dtype: int64"
            ]
          },
          "metadata": {},
          "execution_count": 7
        }
      ]
    },
    {
      "cell_type": "markdown",
      "source": [
        "**Handle Missing Values**  \n",
        "For this project, since the data is (20800,5), very large compared with missing values of (558,1957, 39), instead of imputation  \n",
        "* imputation ( central tendencies : mean() for normal distribution, median() or mode() of dataset for skewed distribution)\n",
        "* dataset.fillna(dataset.mean(), inplace=True)    \n",
        "\n",
        "\n",
        "\n",
        "I use drop values method by replacing n/a with empty string."
      ],
      "metadata": {
        "id": "UEOu2qKV0ih_"
      }
    },
    {
      "cell_type": "code",
      "source": [
        "news_data = news_data.fillna(\"\")"
      ],
      "metadata": {
        "id": "un6oG5ROFbJN"
      },
      "execution_count": 8,
      "outputs": []
    },
    {
      "cell_type": "code",
      "source": [
        "# check again any NA value -> no missing values anymore\n",
        "news_data.isna().sum()\n"
      ],
      "metadata": {
        "colab": {
          "base_uri": "https://localhost:8080/"
        },
        "id": "6inlrSVU2jvc",
        "outputId": "c7db44ee-d036-440b-f506-2313cba5bddf"
      },
      "execution_count": 15,
      "outputs": [
        {
          "output_type": "execute_result",
          "data": {
            "text/plain": [
              "id         0\n",
              "title      0\n",
              "author     0\n",
              "text       0\n",
              "label      0\n",
              "content    0\n",
              "dtype: int64"
            ]
          },
          "metadata": {},
          "execution_count": 15
        }
      ]
    },
    {
      "cell_type": "markdown",
      "source": [
        "**Prediction Approach**  \n",
        "Only use 'title' and 'author' for fake news predicting. 'text' can be used as well, but will consume a lot of power as too many words are inside 'text'. Without if, the prediction is pretty good already."
      ],
      "metadata": {
        "id": "c4Rf5xkq3bZJ"
      }
    },
    {
      "cell_type": "code",
      "source": [
        "# merge the two cols together to 'content'col\n",
        "news_data['content']=news_data['title'] + \" \" + news_data['author']\n",
        "news_data['content'].head()"
      ],
      "metadata": {
        "colab": {
          "base_uri": "https://localhost:8080/"
        },
        "id": "xMsAIoqX26vN",
        "outputId": "e9e2340a-0474-48fc-eebf-07916a680de1"
      },
      "execution_count": 10,
      "outputs": [
        {
          "output_type": "execute_result",
          "data": {
            "text/plain": [
              "0    House Dem Aide: We Didn’t Even See Comey’s Let...\n",
              "1    FLYNN: Hillary Clinton, Big Woman on Campus - ...\n",
              "2    Why the Truth Might Get You Fired Consortiumne...\n",
              "3    15 Civilians Killed In Single US Airstrike Hav...\n",
              "4    Iranian woman jailed for fictional unpublished...\n",
              "Name: content, dtype: object"
            ]
          },
          "metadata": {},
          "execution_count": 10
        }
      ]
    },
    {
      "cell_type": "markdown",
      "source": [
        "**Stemming Words**  \n",
        "to reduce a word to its root word  \n",
        "eg. actor, actress, acting --> act  \n",
        "so that in vectorizing step (numericalize), we can apply feature vectors( numerical data) to each root word.  \n",
        "Only with all numerical data, I can feed the dataset to a model for training.\n"
      ],
      "metadata": {
        "id": "6Z6EPNMI5YQL"
      }
    },
    {
      "cell_type": "code",
      "source": [
        "stemmer = PorterStemmer()"
      ],
      "metadata": {
        "id": "ypi-_ObtIRle"
      },
      "execution_count": 11,
      "outputs": []
    },
    {
      "cell_type": "code",
      "source": [
        "# remove non alphabetical characters, stem each word while remove all stopwords, then join words with a \" \" space\n",
        "def stemming(content) :\n",
        "  stemmed = re.sub('[^a-zA-Z]', ' ', content).split()\n",
        "  stemmed = [stemmer.stem(word) for word in stemmed if not word in stopwords.words('english')] # stem(to_lowercase = True) is default\n",
        "  stemmed = \" \".join(stemmed)\n",
        "  return stemmed"
      ],
      "metadata": {
        "id": "r6gPtR_9HKNE"
      },
      "execution_count": 12,
      "outputs": []
    },
    {
      "cell_type": "code",
      "source": [
        "news_data['content'] = news_data['content'].apply(stemming) # 2minutes"
      ],
      "metadata": {
        "id": "z0cPVvtQPMbD"
      },
      "execution_count": 13,
      "outputs": []
    },
    {
      "cell_type": "code",
      "source": [
        "news_data.content\n"
      ],
      "metadata": {
        "colab": {
          "base_uri": "https://localhost:8080/"
        },
        "id": "twq54nuFRHlh",
        "outputId": "662a9c44-c725-4c76-a33d-5c18189c4fec"
      },
      "execution_count": 14,
      "outputs": [
        {
          "output_type": "execute_result",
          "data": {
            "text/plain": [
              "0        hous dem aid we didn even see comey letter unt...\n",
              "1        flynn hillari clinton big woman campu breitbar...\n",
              "2           whi truth might get you fire consortiumnew com\n",
              "3        civilian kill in singl us airstrik have been i...\n",
              "4        iranian woman jail fiction unpublish stori wom...\n",
              "                               ...                        \n",
              "20795    rapper t i trump poster child for white suprem...\n",
              "20796    n f l playoff schedul matchup odd the new york...\n",
              "20797    maci is said receiv takeov approach hudson bay...\n",
              "20798    nato russia to hold parallel exercis in balkan...\n",
              "20799                       what keep f aliv david swanson\n",
              "Name: content, Length: 20800, dtype: object"
            ]
          },
          "metadata": {},
          "execution_count": 14
        }
      ]
    },
    {
      "cell_type": "markdown",
      "source": [
        "**Train Test Split** with \"content' col + 'label' col only. Not using 'text' cold because it has too many words"
      ],
      "metadata": {
        "id": "IEkk2da-RUUw"
      }
    },
    {
      "cell_type": "code",
      "source": [
        "# seperate X and Y\n",
        "X = news_data['content'].values\n",
        "Y = news_data['label'].values\n",
        "# type(Y) # pandas.core.series.Series -> numpy.ndarray\n",
        "print(X)"
      ],
      "metadata": {
        "id": "THBS4pUJRM_G",
        "colab": {
          "base_uri": "https://localhost:8080/"
        },
        "outputId": "6ceb332e-4ca6-4a20-ff3e-15695039e4f4"
      },
      "execution_count": 38,
      "outputs": [
        {
          "output_type": "stream",
          "name": "stdout",
          "text": [
            "['hous dem aid we didn even see comey letter until jason chaffetz tweet it darrel lucu'\n",
            " 'flynn hillari clinton big woman campu breitbart daniel j flynn'\n",
            " 'whi truth might get you fire consortiumnew com' ...\n",
            " 'maci is said receiv takeov approach hudson bay the new york time michael j de la merc rachel abram'\n",
            " 'nato russia to hold parallel exercis in balkan alex ansari'\n",
            " 'what keep f aliv david swanson']\n"
          ]
        }
      ]
    },
    {
      "cell_type": "markdown",
      "source": [
        "**However** before tts, we need to convert text values of 'content' into numerical values using TFIDFVECTORIZER  \n",
        "*Term Frequency*: This summarizes how often a given word appears within a document.\n",
        "*Inverse Document Frequency*: This downscales words that appear a lot across documents."
      ],
      "metadata": {
        "id": "LXoeqnuT2sg1"
      }
    },
    {
      "cell_type": "code",
      "source": [
        "tfidf_vec = TfidfVectorizer()\n",
        "tfidf_vec.fit(X) #Learn vocabulary and idf from training set.\n",
        "X = tfidf_vec.transform(X) #Transform documents to document-term matrix. Uses the vocabulary and document frequencies (df) learned by fit (or fit_transform).\n",
        "\n",
        "print(X)\n",
        "#  (0, 16586)\t0.19235766814206556\n",
        "# (0, 16055)\t0.29053629972079575\n",
        "# (0, 15762)\t0.25180682754084327 ....\n"
      ],
      "metadata": {
        "colab": {
          "base_uri": "https://localhost:8080/"
        },
        "id": "fGS_og9r3HD9",
        "outputId": "adb2d357-cf14-41dd-82b3-c21ff483ba5f"
      },
      "execution_count": 39,
      "outputs": [
        {
          "output_type": "stream",
          "name": "stdout",
          "text": [
            "<class 'scipy.sparse._csr.csr_matrix'>\n",
            "  (0, 16586)\t0.19235766814206556\n",
            "  (0, 16055)\t0.29053629972079575\n",
            "  (0, 15762)\t0.25180682754084327\n",
            "  (0, 13528)\t0.22682424464275375\n",
            "  (0, 8949)\t0.3214177525383042\n",
            "  (0, 8670)\t0.25823746120670493\n",
            "  (0, 7731)\t0.219100353547038\n",
            "  (0, 7639)\t0.1611238443347535\n",
            "  (0, 7040)\t0.19336678366028098\n",
            "  (0, 4998)\t0.20625126961544935\n",
            "  (0, 4028)\t0.2667908047240904\n",
            "  (0, 3811)\t0.23915031396884368\n",
            "  (0, 3619)\t0.31814479104571186\n",
            "  (0, 2977)\t0.21821000835755877\n",
            "  (0, 2501)\t0.3250028762214839\n",
            "  (0, 272)\t0.2387684291853839\n",
            "  (1, 16892)\t0.30071745655510157\n",
            "  (1, 6849)\t0.1904660198296849\n",
            "  (1, 5528)\t0.7143299355715573\n",
            "  (1, 3587)\t0.26373768806048464\n",
            "  (1, 2831)\t0.19094574062359204\n",
            "  (1, 2241)\t0.3827320386859759\n",
            "  (1, 1910)\t0.15521974226349364\n",
            "  (1, 1512)\t0.2939891562094648\n",
            "  (2, 17095)\t0.29337976465513754\n",
            "  :\t:\n",
            "  (20797, 9631)\t0.17242189281191916\n",
            "  (20797, 9561)\t0.2918128273796141\n",
            "  (20797, 9030)\t0.35719284755530417\n",
            "  (20797, 8404)\t0.22049990081059304\n",
            "  (20797, 7611)\t0.13993333005918895\n",
            "  (20797, 7077)\t0.21532846363003172\n",
            "  (20797, 3662)\t0.20897156870497852\n",
            "  (20797, 1298)\t0.33128501516832193\n",
            "  (20797, 706)\t0.30311121015013676\n",
            "  (20797, 45)\t0.2934743054124047\n",
            "  (20798, 15403)\t0.18607088533252417\n",
            "  (20798, 13100)\t0.2155171704362591\n",
            "  (20798, 11106)\t0.4298645978149587\n",
            "  (20798, 10223)\t0.30766424660063996\n",
            "  (20798, 7316)\t0.19141468437380602\n",
            "  (20798, 6924)\t0.3131701369756004\n",
            "  (20798, 5056)\t0.39355062131402846\n",
            "  (20798, 1136)\t0.4298645978149587\n",
            "  (20798, 595)\t0.29992036527719634\n",
            "  (20798, 356)\t0.2741461438744717\n",
            "  (20799, 16697)\t0.3257672453138293\n",
            "  (20799, 14913)\t0.5367865425277576\n",
            "  (20799, 8076)\t0.43475471880633376\n",
            "  (20799, 3642)\t0.3585867424744768\n",
            "  (20799, 383)\t0.5367865425277576\n"
          ]
        }
      ]
    },
    {
      "cell_type": "markdown",
      "source": [
        "**TIP**  \n",
        "Are you using train_test_split with a **classification** problem?  \n",
        "BE sure to set **\"stratify=y\"** so that class proportions are preserved when splitting, which means both train and test data include proportioned ratio of both 'fake' and 'real' classes examples.\n",
        "Especially TRUE when you have class imbalance"
      ],
      "metadata": {
        "id": "aAaCskg19MwD"
      }
    },
    {
      "cell_type": "code",
      "source": [
        "pd.value_counts(Y)  # 1    10413  | 0    10387"
      ],
      "metadata": {
        "colab": {
          "base_uri": "https://localhost:8080/"
        },
        "id": "kUfgAC-G9zFV",
        "outputId": "8645d7cd-5c65-487f-b0c4-ccf8d0cdb90b"
      },
      "execution_count": 45,
      "outputs": [
        {
          "output_type": "execute_result",
          "data": {
            "text/plain": [
              "1    10413\n",
              "0    10387\n",
              "dtype: int64"
            ]
          },
          "metadata": {},
          "execution_count": 45
        }
      ]
    },
    {
      "cell_type": "code",
      "source": [
        "# train test splitting\n",
        "\n",
        "trainX, testX, trainY, testY = train_test_split(X, Y, test_size=0.2, random_state=2, stratify=Y)"
      ],
      "metadata": {
        "id": "7qySqzkiy5nC"
      },
      "execution_count": 40,
      "outputs": []
    },
    {
      "cell_type": "code",
      "source": [
        "print(trainX.shape, testX.shape, X.shape)"
      ],
      "metadata": {
        "colab": {
          "base_uri": "https://localhost:8080/"
        },
        "id": "VFX2ikj1zH11",
        "outputId": "0a82b931-56a3-477a-a830-6a87c60f08ba"
      },
      "execution_count": 41,
      "outputs": [
        {
          "output_type": "stream",
          "name": "stdout",
          "text": [
            "(16640, 17227) (4160, 17227) (20800, 17227)\n"
          ]
        }
      ]
    },
    {
      "cell_type": "code",
      "source": [
        "trainX"
      ],
      "metadata": {
        "colab": {
          "base_uri": "https://localhost:8080/"
        },
        "id": "xiCWWE_LzNTk",
        "outputId": "3ceeb746-b784-4689-8b59-ff8d20be146e"
      },
      "execution_count": 32,
      "outputs": [
        {
          "output_type": "execute_result",
          "data": {
            "text/plain": [
              "array(['liber moder conserv see how facebook label you the new york time jeremi b merril',\n",
              "       'c i a develop tool spi mac comput wikileak disclosur show the new york time vindu goel',\n",
              "       'texa man allegedli have sex with fenc arrest warner todd huston',\n",
              "       ..., '',\n",
              "       'alton sterl shoot baton roug prompt justic dept investig the new york time richard fausset richard p rez pe campbel robertson',\n",
              "       'purchas loyalti foreign aid jacob g hornberg'], dtype=object)"
            ]
          },
          "metadata": {},
          "execution_count": 32
        }
      ]
    },
    {
      "cell_type": "markdown",
      "source": [
        "**Logistic Regression predict something TRUE or FALSE**  \n",
        "**It is the best model for classification problems**  \n",
        "We test to see if a variable's effect on the prediction is significantly different from 0.  \n",
        "If not, it means the variable is not helping the prediction (totes useless).  \n",
        "Logistic regressions provide probabilities (0-100%) and classify(True,False) new samples using continuous | discrete meansurements.  \n",
        "1. good for classify samples\n",
        "2. can use different types of data (continuous data or discrete data)\n",
        "3. for assess what variables are useful for classifying samples\n",
        "\n"
      ],
      "metadata": {
        "id": "EJ8A74oSAHus"
      }
    },
    {
      "cell_type": "code",
      "source": [
        "logis_reg_model = LogisticRegression()"
      ],
      "metadata": {
        "id": "viQWDAPjzpkF"
      },
      "execution_count": 47,
      "outputs": []
    },
    {
      "cell_type": "code",
      "source": [
        "logis_reg_model.fit(trainX, trainY)"
      ],
      "metadata": {
        "colab": {
          "base_uri": "https://localhost:8080/",
          "height": 74
        },
        "id": "QF4y-TWVAYay",
        "outputId": "f6beef6a-9e01-441b-e910-c9c504c5d1c4"
      },
      "execution_count": 48,
      "outputs": [
        {
          "output_type": "execute_result",
          "data": {
            "text/plain": [
              "LogisticRegression()"
            ],
            "text/html": [
              "<style>#sk-container-id-1 {color: black;background-color: white;}#sk-container-id-1 pre{padding: 0;}#sk-container-id-1 div.sk-toggleable {background-color: white;}#sk-container-id-1 label.sk-toggleable__label {cursor: pointer;display: block;width: 100%;margin-bottom: 0;padding: 0.3em;box-sizing: border-box;text-align: center;}#sk-container-id-1 label.sk-toggleable__label-arrow:before {content: \"▸\";float: left;margin-right: 0.25em;color: #696969;}#sk-container-id-1 label.sk-toggleable__label-arrow:hover:before {color: black;}#sk-container-id-1 div.sk-estimator:hover label.sk-toggleable__label-arrow:before {color: black;}#sk-container-id-1 div.sk-toggleable__content {max-height: 0;max-width: 0;overflow: hidden;text-align: left;background-color: #f0f8ff;}#sk-container-id-1 div.sk-toggleable__content pre {margin: 0.2em;color: black;border-radius: 0.25em;background-color: #f0f8ff;}#sk-container-id-1 input.sk-toggleable__control:checked~div.sk-toggleable__content {max-height: 200px;max-width: 100%;overflow: auto;}#sk-container-id-1 input.sk-toggleable__control:checked~label.sk-toggleable__label-arrow:before {content: \"▾\";}#sk-container-id-1 div.sk-estimator input.sk-toggleable__control:checked~label.sk-toggleable__label {background-color: #d4ebff;}#sk-container-id-1 div.sk-label input.sk-toggleable__control:checked~label.sk-toggleable__label {background-color: #d4ebff;}#sk-container-id-1 input.sk-hidden--visually {border: 0;clip: rect(1px 1px 1px 1px);clip: rect(1px, 1px, 1px, 1px);height: 1px;margin: -1px;overflow: hidden;padding: 0;position: absolute;width: 1px;}#sk-container-id-1 div.sk-estimator {font-family: monospace;background-color: #f0f8ff;border: 1px dotted black;border-radius: 0.25em;box-sizing: border-box;margin-bottom: 0.5em;}#sk-container-id-1 div.sk-estimator:hover {background-color: #d4ebff;}#sk-container-id-1 div.sk-parallel-item::after {content: \"\";width: 100%;border-bottom: 1px solid gray;flex-grow: 1;}#sk-container-id-1 div.sk-label:hover label.sk-toggleable__label {background-color: #d4ebff;}#sk-container-id-1 div.sk-serial::before {content: \"\";position: absolute;border-left: 1px solid gray;box-sizing: border-box;top: 0;bottom: 0;left: 50%;z-index: 0;}#sk-container-id-1 div.sk-serial {display: flex;flex-direction: column;align-items: center;background-color: white;padding-right: 0.2em;padding-left: 0.2em;position: relative;}#sk-container-id-1 div.sk-item {position: relative;z-index: 1;}#sk-container-id-1 div.sk-parallel {display: flex;align-items: stretch;justify-content: center;background-color: white;position: relative;}#sk-container-id-1 div.sk-item::before, #sk-container-id-1 div.sk-parallel-item::before {content: \"\";position: absolute;border-left: 1px solid gray;box-sizing: border-box;top: 0;bottom: 0;left: 50%;z-index: -1;}#sk-container-id-1 div.sk-parallel-item {display: flex;flex-direction: column;z-index: 1;position: relative;background-color: white;}#sk-container-id-1 div.sk-parallel-item:first-child::after {align-self: flex-end;width: 50%;}#sk-container-id-1 div.sk-parallel-item:last-child::after {align-self: flex-start;width: 50%;}#sk-container-id-1 div.sk-parallel-item:only-child::after {width: 0;}#sk-container-id-1 div.sk-dashed-wrapped {border: 1px dashed gray;margin: 0 0.4em 0.5em 0.4em;box-sizing: border-box;padding-bottom: 0.4em;background-color: white;}#sk-container-id-1 div.sk-label label {font-family: monospace;font-weight: bold;display: inline-block;line-height: 1.2em;}#sk-container-id-1 div.sk-label-container {text-align: center;}#sk-container-id-1 div.sk-container {/* jupyter's `normalize.less` sets `[hidden] { display: none; }` but bootstrap.min.css set `[hidden] { display: none !important; }` so we also need the `!important` here to be able to override the default hidden behavior on the sphinx rendered scikit-learn.org. See: https://github.com/scikit-learn/scikit-learn/issues/21755 */display: inline-block !important;position: relative;}#sk-container-id-1 div.sk-text-repr-fallback {display: none;}</style><div id=\"sk-container-id-1\" class=\"sk-top-container\"><div class=\"sk-text-repr-fallback\"><pre>LogisticRegression()</pre><b>In a Jupyter environment, please rerun this cell to show the HTML representation or trust the notebook. <br />On GitHub, the HTML representation is unable to render, please try loading this page with nbviewer.org.</b></div><div class=\"sk-container\" hidden><div class=\"sk-item\"><div class=\"sk-estimator sk-toggleable\"><input class=\"sk-toggleable__control sk-hidden--visually\" id=\"sk-estimator-id-1\" type=\"checkbox\" checked><label for=\"sk-estimator-id-1\" class=\"sk-toggleable__label sk-toggleable__label-arrow\">LogisticRegression</label><div class=\"sk-toggleable__content\"><pre>LogisticRegression()</pre></div></div></div></div></div>"
            ]
          },
          "metadata": {},
          "execution_count": 48
        }
      ]
    },
    {
      "cell_type": "markdown",
      "source": [
        "**Check accuracy**"
      ],
      "metadata": {
        "id": "MWRZa0cxFNg4"
      }
    },
    {
      "cell_type": "code",
      "source": [
        "train_y_predict = logis_reg_model.predict(trainX)\n",
        "accuracy_train = accuracy_score(train_y_predict, trainY)"
      ],
      "metadata": {
        "id": "e6Pu9uBZEj9Y"
      },
      "execution_count": 51,
      "outputs": []
    },
    {
      "cell_type": "code",
      "source": [
        "print(accuracy_train) #0.9868990384615385 pretty accurate"
      ],
      "metadata": {
        "colab": {
          "base_uri": "https://localhost:8080/"
        },
        "id": "dnyys5DmE8r3",
        "outputId": "87662194-5768-4fd5-f720-066429b6a851"
      },
      "execution_count": 52,
      "outputs": [
        {
          "output_type": "stream",
          "name": "stdout",
          "text": [
            "0.9868990384615385\n"
          ]
        }
      ]
    },
    {
      "cell_type": "markdown",
      "source": [
        "**The most important is not trained data accuracy but test data accuracy**"
      ],
      "metadata": {
        "id": "Rtd7tpedGXGa"
      }
    },
    {
      "cell_type": "code",
      "source": [
        "test_y_predict = logis_reg_model.predict(testX)"
      ],
      "metadata": {
        "id": "KPNOBKERE_bW"
      },
      "execution_count": 54,
      "outputs": []
    },
    {
      "cell_type": "code",
      "source": [
        "accuracy_test = accuracy_score(test_y_predict, testY)"
      ],
      "metadata": {
        "id": "B5jy-tsSGjB8"
      },
      "execution_count": 55,
      "outputs": []
    },
    {
      "cell_type": "code",
      "source": [
        "print(accuracy_test) #0.9762019230769231"
      ],
      "metadata": {
        "colab": {
          "base_uri": "https://localhost:8080/"
        },
        "id": "gQfZNOtQGugN",
        "outputId": "2e6e9d18-8e3d-46c6-bea5-442bca73ebef"
      },
      "execution_count": 56,
      "outputs": [
        {
          "output_type": "stream",
          "name": "stdout",
          "text": [
            "0.9762019230769231\n"
          ]
        }
      ]
    },
    {
      "cell_type": "code",
      "source": [],
      "metadata": {
        "id": "w-fHKlOVGwc8"
      },
      "execution_count": null,
      "outputs": []
    },
    {
      "cell_type": "markdown",
      "source": [
        "**Build a predicting system with test data to check results**"
      ],
      "metadata": {
        "id": "sN5aVE2gHdp1"
      }
    },
    {
      "cell_type": "code",
      "source": [
        "new_X = testX[0]\n",
        "predict_y = logis_reg_model.predict(new_X) # return [1]\n",
        "print(predict_y[0] == testY[0])"
      ],
      "metadata": {
        "colab": {
          "base_uri": "https://localhost:8080/"
        },
        "id": "D9jIhh2qHklj",
        "outputId": "999bb39d-7a93-4037-87a5-9ae6e2783c5a"
      },
      "execution_count": 63,
      "outputs": [
        {
          "output_type": "stream",
          "name": "stdout",
          "text": [
            "True\n"
          ]
        }
      ]
    },
    {
      "cell_type": "code",
      "source": [
        "new_X = testX[10]\n",
        "predict_y = logis_reg_model.predict(new_X) # return [1]\n",
        "print(predict_y[0] == testY[10])"
      ],
      "metadata": {
        "colab": {
          "base_uri": "https://localhost:8080/"
        },
        "id": "5vSW6mf_H_Dh",
        "outputId": "18392be6-15cf-4884-be16-eb81c9a49db0"
      },
      "execution_count": 64,
      "outputs": [
        {
          "output_type": "stream",
          "name": "stdout",
          "text": [
            "True\n"
          ]
        }
      ]
    },
    {
      "cell_type": "code",
      "source": [],
      "metadata": {
        "id": "jjeX7mnyJR9x"
      },
      "execution_count": null,
      "outputs": []
    }
  ]
}